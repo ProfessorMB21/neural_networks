{
 "cells": [
  {
   "cell_type": "code",
   "execution_count": null,
   "id": "bab7ffab",
   "metadata": {},
   "outputs": [],
   "source": [
    "import torch\n",
    "import numpy as np\n",
    "import matplotlib.pyplot as plt\n"
   ]
  },
  {
   "cell_type": "code",
   "execution_count": null,
   "id": "c9f9b2fd",
   "metadata": {},
   "outputs": [],
   "source": [
    "def target_function(x, with_error = False):\n",
    "    y = np.sin(x) \n",
    "    if with_error:\n",
    "        return y + np.random.random(x.shape) * .1 - .05\n",
    "    else:\n",
    "        return y\n",
    "    "
   ]
  },
  {
   "cell_type": "code",
   "execution_count": null,
   "id": "a49a0d70",
   "metadata": {},
   "outputs": [],
   "source": [
    "x_min, x_max = -2 * np.pi, 2 * np.pi\n",
    "num_points = 100\n",
    "x_data = np.linspace(x_min, x_max, num_points)\n",
    "y_data = target_function(x_data, True)"
   ]
  },
  {
   "cell_type": "code",
   "execution_count": null,
   "id": "d6408e90",
   "metadata": {},
   "outputs": [],
   "source": [
    "input_size = 1\n",
    "hidden_size = 30\n",
    "output_size = 1"
   ]
  },
  {
   "cell_type": "code",
   "execution_count": null,
   "id": "423d80c6",
   "metadata": {},
   "outputs": [],
   "source": [
    "# Weight initialization\n",
    "torch.menual_seed(41)\n",
    "W1 = torch.randn(input_size, hidden_size, requires_grad=False) * 0.5\n",
    "b1 = torch.zeros(1, hidden_size, requires_grad=False)\n",
    "W2 = torch.randn(hidden_size, output_size, requires_grad=False) * 0.5\n",
    "b2 = torch.zeros(1, output_size, requires_grad=False)\n",
    "\n",
    "X = torch.tensor(x_data, dtype=torch.float32)\n",
    "Y = torch.tensor(y_data, dtype=torch.float32)"
   ]
  },
  {
   "cell_type": "code",
   "execution_count": null,
   "id": "b1939e9a",
   "metadata": {},
   "outputs": [],
   "source": [
    "# Activation function\n",
    "def activation(x):\n",
    "    x = torch.clamp(x, -500, 5000)\n",
    "    return 1 / (1 + torch.exp(-x))\n",
    "\n",
    "# Derivative of the activation function\n",
    "def activation_derivative(x):\n",
    "    return x * (1 - x)"
   ]
  }
 ],
 "metadata": {
  "language_info": {
   "name": "python"
  }
 },
 "nbformat": 4,
 "nbformat_minor": 5
}
