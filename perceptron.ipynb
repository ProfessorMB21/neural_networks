{
 "cells": [
  {
   "cell_type": "code",
   "execution_count": 1,
   "id": "bab7ffab",
   "metadata": {},
   "outputs": [
    {
     "ename": "ModuleNotFoundError",
     "evalue": "No module named 'torch'",
     "output_type": "error",
     "traceback": [
      "\u001b[1;31m---------------------------------------------------------------------------\u001b[0m",
      "\u001b[1;31mModuleNotFoundError\u001b[0m                       Traceback (most recent call last)",
      "Cell \u001b[1;32mIn[1], line 1\u001b[0m\n\u001b[1;32m----> 1\u001b[0m \u001b[38;5;28;01mimport\u001b[39;00m\u001b[38;5;250m \u001b[39m\u001b[38;5;21;01mtorch\u001b[39;00m\n\u001b[0;32m      2\u001b[0m \u001b[38;5;28;01mimport\u001b[39;00m\u001b[38;5;250m \u001b[39m\u001b[38;5;21;01mnumpy\u001b[39;00m\u001b[38;5;250m \u001b[39m\u001b[38;5;28;01mas\u001b[39;00m\u001b[38;5;250m \u001b[39m\u001b[38;5;21;01mnp\u001b[39;00m\n\u001b[0;32m      3\u001b[0m \u001b[38;5;28;01mimport\u001b[39;00m\u001b[38;5;250m \u001b[39m\u001b[38;5;21;01mmatplotlib\u001b[39;00m\u001b[38;5;21;01m.\u001b[39;00m\u001b[38;5;21;01mpyplot\u001b[39;00m\u001b[38;5;250m \u001b[39m\u001b[38;5;28;01mas\u001b[39;00m\u001b[38;5;250m \u001b[39m\u001b[38;5;21;01mplt\u001b[39;00m\n",
      "\u001b[1;31mModuleNotFoundError\u001b[0m: No module named 'torch'"
     ]
    }
   ],
   "source": [
    "import torch\n",
    "import numpy as np\n",
    "import matplotlib.pyplot as plt\n"
   ]
  },
  {
   "cell_type": "code",
   "execution_count": null,
   "id": "c9f9b2fd",
   "metadata": {},
   "outputs": [],
   "source": [
    "def target_function(x, with_error = False):\n",
    "    y = np.sin(x) \n",
    "    if with_error:\n",
    "        return y + np.random.random(x.shape) * 0.1 - 0.05\n",
    "    else:\n",
    "        return y\n",
    "    "
   ]
  },
  {
   "cell_type": "code",
   "execution_count": null,
   "id": "a49a0d70",
   "metadata": {},
   "outputs": [],
   "source": [
    "x_min, x_max = -2 * np.pi, 2 * np.pi\n",
    "num_points = 100\n",
    "x_data = np.linspace(x_min, x_max, num_points)\n",
    "y_data = target_function(x_data, True)"
   ]
  },
  {
   "cell_type": "code",
   "execution_count": null,
   "id": "d6408e90",
   "metadata": {},
   "outputs": [],
   "source": [
    "input_size = 1\n",
    "hidden_size = 30\n",
    "output_size = 1"
   ]
  },
  {
   "cell_type": "code",
   "execution_count": null,
   "id": "423d80c6",
   "metadata": {},
   "outputs": [
    {
     "ename": "NameError",
     "evalue": "name 'torch' is not defined",
     "output_type": "error",
     "traceback": [
      "\u001b[1;31m---------------------------------------------------------------------------\u001b[0m",
      "\u001b[1;31mNameError\u001b[0m                                 Traceback (most recent call last)",
      "Cell \u001b[1;32mIn[6], line 2\u001b[0m\n\u001b[0;32m      1\u001b[0m \u001b[38;5;66;03m# Weight initialization\u001b[39;00m\n\u001b[1;32m----> 2\u001b[0m torch\u001b[38;5;241m.\u001b[39mmenual_seed(\u001b[38;5;241m41\u001b[39m)\n\u001b[0;32m      3\u001b[0m W1 \u001b[38;5;241m=\u001b[39m torch\u001b[38;5;241m.\u001b[39mrandn(input_size, hidden_size, requires_grad\u001b[38;5;241m=\u001b[39m\u001b[38;5;28;01mFalse\u001b[39;00m) \u001b[38;5;241m*\u001b[39m \u001b[38;5;241m0.5\u001b[39m\n\u001b[0;32m      4\u001b[0m b1 \u001b[38;5;241m=\u001b[39m torch\u001b[38;5;241m.\u001b[39mzeros(\u001b[38;5;241m1\u001b[39m, hidden_size, requires_grad\u001b[38;5;241m=\u001b[39m\u001b[38;5;28;01mFalse\u001b[39;00m)\n",
      "\u001b[1;31mNameError\u001b[0m: name 'torch' is not defined"
     ]
    }
   ],
   "source": [
    "# Weight initialization\n",
    "torch.menual_seed(41)\n",
    "W1 = torch.randn(input_size, hidden_size, requires_grad=False) * 0.5\n",
    "b1 = torch.zeros(1, hidden_size, requires_grad=False)\n",
    "W2 = torch.randn(hidden_size, output_size, requires_grad=False) * 0.5\n",
    "b2 = torch.zeros(1, output_size, requires_grad=False)\n",
    "\n",
    "X = torch.tensor(x_data, dtype=torch.float32)\n",
    "Y = torch.tensor(y_data, dtype=torch.float32)"
   ]
  },
  {
   "cell_type": "code",
   "execution_count": null,
   "id": "b1939e9a",
   "metadata": {},
   "outputs": [],
   "source": [
    "# Activation function\n",
    "def activation(x):\n",
    "    x = torch.clamp(x, -500, 5000)\n",
    "    return 1 / (1 + torch.exp(-x))\n",
    "\n",
    "# Derivative of the activation function\n",
    "def activation_derivative(x):\n",
    "    return x * (1 - x)"
   ]
  },
  {
   "cell_type": "code",
   "execution_count": null,
   "id": "b5aa0b3b",
   "metadata": {},
   "outputs": [],
   "source": [
    "# Linear distribution/Expansion\n",
    "def predict(X, W1, b1, W2, b2):\n",
    "    z1 = torch.mm(X, W1) + b1\n",
    "    a1 = activation(z1)\n",
    "    z2 = torch.mm(X, W2) + b2\n",
    "    y_pred = z2\n",
    "    return z1, a1, z2, y_pred"
   ]
  },
  {
   "cell_type": "code",
   "execution_count": null,
   "id": "f6e48077",
   "metadata": {},
   "outputs": [],
   "source": [
    "# Inverse distribution error\n",
    "def backward(X, Y, z1, a1, z2, y_pred, W2):\n",
    "    m = X.size(0)\n",
    "    dZ2 = y_pred - Y\n",
    "    dW2 = torch.mm(dZ2, a1)\n",
    "    db2 = torch.sum(dZ2, dim=0, keepdim=True) / m\n",
    "\n",
    "    dA1 = torch.mm(dZ2, W2.t())\n",
    "    dZ1 = dA1 * activation_derivative(a1)\n",
    "\n",
    "    dW1 = torch.mm(X.t(), dZ1) / m\n",
    "    db1 = torch.sum(dZ1, dim=0, keepdim=True) / m\n",
    "\n",
    "    return dW1, db1, dW2, db2\n"
   ]
  },
  {
   "cell_type": "code",
   "execution_count": null,
   "id": "eff1afd9",
   "metadata": {},
   "outputs": [],
   "source": [
    "# Update weights\n",
    "def update_parameters(W1, b1, W2, b2, dW1, db1, dW2, db2, learning_rate):\n",
    "    W1 -= learning_rate * dW1\n",
    "    b1 -= learning_rate * db1\n",
    "    W2 -= learning_rate * dW2\n",
    "    b2 -= learning_rate * db2\n",
    "    return W1, b1, W2, b2"
   ]
  },
  {
   "cell_type": "code",
   "execution_count": null,
   "id": "d9f80952",
   "metadata": {},
   "outputs": [],
   "source": [
    "# Hyperparameters of the NN\n",
    "learning_rate = 0.25\n",
    "epoches = 1000"
   ]
  },
  {
   "cell_type": "code",
   "execution_count": null,
   "id": "0738054c",
   "metadata": {},
   "outputs": [],
   "source": [
    "# Loss function\n",
    "def compute_loss(y_pred, Y):\n",
    "    return torch.mean((y_pred - Y) ** 2)"
   ]
  },
  {
   "cell_type": "code",
   "execution_count": null,
   "id": "cc1087ea",
   "metadata": {},
   "outputs": [],
   "source": [
    "# Training the NN\n",
    "def train(X, Y, W1, b1, W2, b2, learning_rate, epochs):\n",
    "    losses = []\n",
    "    for epoch in range(epochs):\n",
    "        # linear distribution\n",
    "        z1, a1, z2, y_pred = predict(X, W1, b1, W2, b2)\n",
    "\n",
    "        # Compute loss function\n",
    "        loss = compute_loss(y_pred, Y)\n",
    "        losses.append(loss.item())\n",
    "\n",
    "        # inverse linear distribution\n",
    "        dW1, db1, dW2, db2 = backward(X, Y, z1, a1, z2, y_pred, W2)\n",
    "\n",
    "        # Update parameters\n",
    "        W1, b1, W2, b2 = update_parameters(W1, b1, W2, b2, dW1, db1, dW2, db2, learning_rate)\n",
    "\n",
    "        # Output information on leaarning progress\n",
    "        if epoch % 200 == 0:\n",
    "            print(f\"Epoch {epoch}: loss {loss.item():.6f}\")\n",
    "\n",
    "        return W1, b1, W2, b2, losses\n"
   ]
  },
  {
   "cell_type": "code",
   "execution_count": null,
   "id": "90e68bc6",
   "metadata": {},
   "outputs": [],
   "source": [
    "# Learning\n",
    "W1, b1, W2, b2, losses = train(X, Y, W1, b1, W2, b2, learning_rate, epoches)\n",
    "\n",
    "with torch.no_grad():\n",
    "    _, _, _, y_pred = predict(X, W1, b1, W2, b2)\n",
    "\n",
    "plt.figure(figsize=(12, 5))\n",
    "plt.subplot(1, 2, 1)\n",
    "plt.plot(x_data, y_data, label=\"True function\", color=\"blue\", marker=\"o\")\n",
    "plt.plot(x_data, y_pred.numpy(), label=\"Approximate\", color=\"red\", linestyle=\"--\")\n",
    "plt.legend()\n",
    "plt.grid(True)\n",
    "plt.title(\"Approximation function\")\n",
    "plt.xlabel(\"x\")\n",
    "plt.ylabel(\"y\")\n",
    "\n",
    "plt.subplot(1, 2, 2)\n",
    "plt.plot(losses, color=\"green\") # losses[5000:]\n",
    "plt.title(\"Loss function\")\n",
    "plt.xlabel(\"Num of epochs\")\n",
    "plt.ylabel(\"MSE\")\n",
    "plt.grid(True)\n",
    "\n",
    "plt.tight_layout()\n",
    "plt.show()\n",
    "\n",
    "final_loss = compute_loss(y_pred, Y)\n",
    "print(f\"\\nFinal loss (MSE): {final_loss.item():.6f}\")"
   ]
  }
 ],
 "metadata": {
  "kernelspec": {
   "display_name": "venv",
   "language": "python",
   "name": "python3"
  },
  "language_info": {
   "codemirror_mode": {
    "name": "ipython",
    "version": 3
   },
   "file_extension": ".py",
   "mimetype": "text/x-python",
   "name": "python",
   "nbconvert_exporter": "python",
   "pygments_lexer": "ipython3",
   "version": "3.9.6"
  }
 },
 "nbformat": 4,
 "nbformat_minor": 5
}
